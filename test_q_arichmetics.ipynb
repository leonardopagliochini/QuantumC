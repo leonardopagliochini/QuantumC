{
 "cells": [
  {
   "cell_type": "code",
   "execution_count": 32,
   "id": "c18310d7",
   "metadata": {},
   "outputs": [],
   "source": [
    "from q_arithmetics import *\n",
    "NUMBER_OF_BITS = 8  # Set the number of bits for the quantum circuit\n",
    "set_number_of_bits(NUMBER_OF_BITS)\n",
    "qc = QuantumCircuit()\n",
    "a = initialize_variable(qc, 9, \"a\")\n",
    "b = initialize_variable(qc, 3, \"b\")"
   ]
  },
  {
   "cell_type": "code",
   "execution_count": 33,
   "id": "d296e05c",
   "metadata": {},
   "outputs": [],
   "source": [
    "c = add(qc, a, b)"
   ]
  },
  {
   "cell_type": "code",
   "execution_count": 34,
   "id": "e159f610",
   "metadata": {},
   "outputs": [],
   "source": [
    "measure(qc, c)"
   ]
  },
  {
   "cell_type": "code",
   "execution_count": 35,
   "id": "e6bc5b8d",
   "metadata": {},
   "outputs": [
    {
     "name": "stdout",
     "output_type": "stream",
     "text": [
      "Measured bitstring: 00001100\n",
      "Register sum0_measure: binary = 00001100, value (2's complement) = 12\n"
     ]
    },
    {
     "data": {
      "text/plain": [
       "12"
      ]
     },
     "execution_count": 35,
     "metadata": {},
     "output_type": "execute_result"
    }
   ],
   "source": [
    "simulate(qc)"
   ]
  },
  {
   "cell_type": "code",
   "execution_count": 36,
   "id": "385c8226",
   "metadata": {},
   "outputs": [],
   "source": [
    "from q_arithmetics_controlled import *\n",
    "NUMBER_OF_BITS = 8 \n",
    "set_number_of_bits(NUMBER_OF_BITS)\n",
    "qc = QuantumCircuit()\n",
    "a = initialize_variable(qc, 2, \"a\")\n",
    "b = initialize_variable(qc, 3, \"b\")"
   ]
  },
  {
   "cell_type": "code",
   "execution_count": 37,
   "id": "5aad1792",
   "metadata": {},
   "outputs": [],
   "source": [
    "d = greater_equal(qc, a, b)\n",
    "e = sub_controlled(qc, a, b, d)\n",
    "measure(qc, e)"
   ]
  },
  {
   "cell_type": "code",
   "execution_count": 38,
   "id": "b9586a03",
   "metadata": {},
   "outputs": [
    {
     "name": "stdout",
     "output_type": "stream",
     "text": [
      "Measured bitstring: 00000000\n",
      "Register sum1_measure: binary = 00000000, value (2's complement) = 0\n"
     ]
    },
    {
     "data": {
      "text/plain": [
       "0"
      ]
     },
     "execution_count": 38,
     "metadata": {},
     "output_type": "execute_result"
    }
   ],
   "source": [
    "simulate(qc)"
   ]
  }
 ],
 "metadata": {
  "kernelspec": {
   "display_name": "quantumc",
   "language": "python",
   "name": "python3"
  },
  "language_info": {
   "codemirror_mode": {
    "name": "ipython",
    "version": 3
   },
   "file_extension": ".py",
   "mimetype": "text/x-python",
   "name": "python",
   "nbconvert_exporter": "python",
   "pygments_lexer": "ipython3",
   "version": "3.13.3"
  }
 },
 "nbformat": 4,
 "nbformat_minor": 5
}
