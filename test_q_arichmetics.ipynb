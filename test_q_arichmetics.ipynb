{
 "cells": [
  {
   "cell_type": "code",
   "execution_count": 29,
   "id": "c18310d7",
   "metadata": {},
   "outputs": [],
   "source": [
    "from q_arithmetics import *\n",
    "NUMBER_OF_BITS = 8  # Set the number of bits for the quantum circuit\n",
    "set_number_of_bits(NUMBER_OF_BITS)\n",
    "qc = QuantumCircuit()\n",
    "a = initialize_variable(qc, 9, \"a\")\n",
    "b = initialize_variable(qc, 3, \"b\")"
   ]
  },
  {
   "cell_type": "code",
   "execution_count": 30,
   "id": "d296e05c",
   "metadata": {},
   "outputs": [],
   "source": [
    "c = divi(qc, a, 3)"
   ]
  },
  {
   "cell_type": "code",
   "execution_count": 31,
   "id": "e159f610",
   "metadata": {},
   "outputs": [],
   "source": [
    "measure(qc, c)"
   ]
  },
  {
   "cell_type": "code",
   "execution_count": 32,
   "id": "e6bc5b8d",
   "metadata": {},
   "outputs": [
    {
     "name": "stdout",
     "output_type": "stream",
     "text": [
      "Measured bitstring: 00000011\n",
      "Register tmpinv0: binary = 00000011, value (2's complement) = 3\n",
      "Register quot0: not fully measured or missing.\n",
      "Register b: not fully measured or missing.\n",
      "Register a: not fully measured or missing.\n"
     ]
    },
    {
     "data": {
      "text/plain": [
       "3"
      ]
     },
     "execution_count": 32,
     "metadata": {},
     "output_type": "execute_result"
    }
   ],
   "source": [
    "simulate(qc)"
   ]
  }
 ],
 "metadata": {
  "kernelspec": {
   "display_name": "quantumc",
   "language": "python",
   "name": "python3"
  },
  "language_info": {
   "codemirror_mode": {
    "name": "ipython",
    "version": 3
   },
   "file_extension": ".py",
   "mimetype": "text/x-python",
   "name": "python",
   "nbconvert_exporter": "python",
   "pygments_lexer": "ipython3",
   "version": "3.13.3"
  }
 },
 "nbformat": 4,
 "nbformat_minor": 5
}
