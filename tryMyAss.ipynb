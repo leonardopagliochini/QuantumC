{
 "cells": [
  {
   "cell_type": "markdown",
   "id": "bed6e177",
   "metadata": {},
   "source": [
    "# Fantastic Fake Risc-V Gen"
   ]
  },
  {
   "cell_type": "code",
   "execution_count": null,
   "id": "47a3df9f",
   "metadata": {},
   "outputs": [],
   "source": []
  },
  {
   "cell_type": "code",
   "execution_count": 1,
   "id": "b008d926",
   "metadata": {},
   "outputs": [
    {
     "name": "stdout",
     "output_type": "stream",
     "text": [
      "JSON output saved to: /Users/leonardoignaziopagliochini/Developer/QuantumC/json_out/try.json\n"
     ]
    }
   ],
   "source": [
    "from quantumC.pyast import astJsonGen\n",
    "astJsonGen(input_dir=\"c_code\")"
   ]
  },
  {
   "cell_type": "code",
   "execution_count": 2,
   "id": "0334ab0d",
   "metadata": {},
   "outputs": [
    {
     "name": "stdout",
     "output_type": "stream",
     "text": [
      "#include <stdio.h>\n",
      "\n",
      "int main() {\n",
      "    int a = 1;\n",
      "    int b = 2 * (a + a);\n",
      "    int c = b * (a + a);\n",
      "\n",
      "    int genova = a * b * c;\n",
      "\n",
      "    int d, e, f, g;\n",
      "\n",
      "    d = a + b;\n",
      "    e = a + 7;\n",
      "    f = c + a;\n",
      "    g = c + b;\n",
      "\n",
      "    int qst = 7 - f;\n",
      "\n",
      "    // Print all variables for comparison\n",
      "    printf(\"a = %d\\n\", a);\n",
      "    printf(\"b = %d\\n\", b);\n",
      "    printf(\"c = %d\\n\", c);\n",
      "    printf(\"genova = %d\\n\", genova);\n",
      "    printf(\"d = %d\\n\", d);\n",
      "    printf(\"e = %d\\n\", e);\n",
      "    printf(\"f = %d\\n\", f);\n",
      "    printf(\"g = %d\\n\", g);\n",
      "    printf(\"qst = %d\\n\", qst);\n",
      "\n",
      "    return 0;\n",
      "}\n",
      "\n"
     ]
    }
   ],
   "source": [
    "with open(\"c_code/try.c\", \"r\") as file:\n",
    "    print(file.read())"
   ]
  },
  {
   "cell_type": "code",
   "execution_count": 3,
   "id": "e73b6a67",
   "metadata": {},
   "outputs": [
    {
     "name": "stdout",
     "output_type": "stream",
     "text": [
      "LI qr0, 1\n",
      "ADD qr1, qr0, qr0\n",
      "LI qr3, 2\n",
      "MUL qr2, qr3, qr1\n",
      "ADD qr4, qr0, qr0\n",
      "MUL qr5, qr2, qr4\n",
      "MUL qr6, qr0, qr2\n",
      "MUL qr7, qr6, qr5\n",
      "ADD qr8, qr0, qr2\n",
      "ADDI qr9, qr0, 7\n",
      "ADD qr10, qr5, qr0\n",
      "ADD qr11, qr5, qr2\n",
      "LI qr13, 7\n",
      "SUB qr12, qr13, qr10\n"
     ]
    }
   ],
   "source": [
    "from quantumC.pyass import generate_riscv_commands\n",
    "generate_riscv_commands(\"./json_out/try.json\", out_folder=\"fake_v\")"
   ]
  },
  {
   "cell_type": "code",
   "execution_count": 4,
   "id": "dae41aa2",
   "metadata": {},
   "outputs": [
    {
     "name": "stdout",
     "output_type": "stream",
     "text": [
      "\n",
      "✅ Total virtual registers used: 38\n"
     ]
    }
   ],
   "source": [
    "from quantumC.pyass import quantumize_irep\n",
    "quantumize_irep(\"try\", folder=\"fake_v\")"
   ]
  }
 ],
 "metadata": {
  "kernelspec": {
   "display_name": "cotenv",
   "language": "python",
   "name": "python3"
  },
  "language_info": {
   "codemirror_mode": {
    "name": "ipython",
    "version": 3
   },
   "file_extension": ".py",
   "mimetype": "text/x-python",
   "name": "python",
   "nbconvert_exporter": "python",
   "pygments_lexer": "ipython3",
   "version": "3.13.2"
  }
 },
 "nbformat": 4,
 "nbformat_minor": 5
}
