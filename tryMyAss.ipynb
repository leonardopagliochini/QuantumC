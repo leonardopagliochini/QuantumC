{
 "cells": [
  {
   "cell_type": "markdown",
   "id": "bed6e177",
   "metadata": {},
   "source": [
    "# Fantastic Fake Risc-V Gen"
   ]
  },
  {
   "cell_type": "code",
   "execution_count": null,
   "id": "47a3df9f",
   "metadata": {},
   "outputs": [],
   "source": []
  },
  {
   "cell_type": "code",
   "execution_count": 6,
   "id": "b008d926",
   "metadata": {},
   "outputs": [
    {
     "name": "stdout",
     "output_type": "stream",
     "text": [
      "JSON output saved to: /Users/leonardoignaziopagliochini/Developer/QuantumC/json_out/try.json\n"
     ]
    }
   ],
   "source": [
    "from quantumC.pyast import astJsonGen\n",
    "astJsonGen(input_dir=\"c_code\")"
   ]
  },
  {
   "cell_type": "code",
   "execution_count": 7,
   "id": "e73b6a67",
   "metadata": {},
   "outputs": [
    {
     "name": "stdout",
     "output_type": "stream",
     "text": [
      "ADD a, 5, 7\n",
      "SUB b, a, 3\n",
      "MUL c, b, 4\n",
      "DIV d, c, 2\n",
      "REM e, d, 5\n",
      "XOR f, e, 6\n",
      "OR g, f, 1\n",
      "AND h, g, 7\n"
     ]
    }
   ],
   "source": [
    "from quantumC.pyast import generate_riscv_commands\n",
    "generate_riscv_commands(\"./json_out/try.json\")"
   ]
  },
  {
   "cell_type": "code",
   "execution_count": null,
   "id": "dae41aa2",
   "metadata": {},
   "outputs": [],
   "source": []
  },
  {
   "cell_type": "code",
   "execution_count": null,
   "id": "c37e4d4e",
   "metadata": {},
   "outputs": [
    {
     "name": "stdout",
     "output_type": "stream",
     "text": [
      "Input: (0, 0, 0, 0, 0, 0). Result: {'000000': 1024}\n",
      "Input: (0, 0, 0, 0, 0, 1). Result: {'000001': 1024}\n",
      "Input: (0, 0, 0, 0, 1, 0). Result: {'000010': 1024}\n",
      "Input: (0, 0, 0, 0, 1, 1). Result: {'000011': 1024}\n",
      "Input: (0, 0, 0, 1, 0, 0). Result: {'000100': 1024}\n",
      "Input: (0, 0, 0, 1, 0, 1). Result: {'000101': 1024}\n",
      "Input: (0, 0, 0, 1, 1, 0). Result: {'000110': 1024}\n",
      "Input: (0, 0, 0, 1, 1, 1). Result: {'000111': 1024}\n",
      "Input: (0, 0, 1, 0, 0, 0). Result: {'001001': 1024}\n",
      "Input: (0, 0, 1, 0, 0, 1). Result: {'001000': 1024}\n",
      "Input: (0, 0, 1, 0, 1, 0). Result: {'001011': 1024}\n",
      "Input: (0, 0, 1, 0, 1, 1). Result: {'001010': 1024}\n",
      "Input: (0, 0, 1, 1, 0, 0). Result: {'001101': 1024}\n",
      "Input: (0, 0, 1, 1, 0, 1). Result: {'001100': 1024}\n",
      "Input: (0, 0, 1, 1, 1, 0). Result: {'001111': 1024}\n",
      "Input: (0, 0, 1, 1, 1, 1). Result: {'001110': 1024}\n",
      "Input: (0, 1, 0, 0, 0, 0). Result: {'010010': 1024}\n",
      "Input: (0, 1, 0, 0, 0, 1). Result: {'010011': 1024}\n",
      "Input: (0, 1, 0, 0, 1, 0). Result: {'010001': 1024}\n",
      "Input: (0, 1, 0, 0, 1, 1). Result: {'010000': 1024}\n",
      "Input: (0, 1, 0, 1, 0, 0). Result: {'010110': 1024}\n",
      "Input: (0, 1, 0, 1, 0, 1). Result: {'010111': 1024}\n",
      "Input: (0, 1, 0, 1, 1, 0). Result: {'010101': 1024}\n",
      "Input: (0, 1, 0, 1, 1, 1). Result: {'010100': 1024}\n",
      "Input: (0, 1, 1, 0, 0, 0). Result: {'011011': 1024}\n",
      "Input: (0, 1, 1, 0, 0, 1). Result: {'011010': 1024}\n",
      "Input: (0, 1, 1, 0, 1, 0). Result: {'011000': 1024}\n",
      "Input: (0, 1, 1, 0, 1, 1). Result: {'011001': 1024}\n",
      "Input: (0, 1, 1, 1, 0, 0). Result: {'011111': 1024}\n",
      "Input: (0, 1, 1, 1, 0, 1). Result: {'011110': 1024}\n",
      "Input: (0, 1, 1, 1, 1, 0). Result: {'011100': 1024}\n",
      "Input: (0, 1, 1, 1, 1, 1). Result: {'011101': 1024}\n",
      "Input: (1, 0, 0, 0, 0, 0). Result: {'100100': 1024}\n",
      "Input: (1, 0, 0, 0, 0, 1). Result: {'100101': 1024}\n",
      "Input: (1, 0, 0, 0, 1, 0). Result: {'100110': 1024}\n",
      "Input: (1, 0, 0, 0, 1, 1). Result: {'100111': 1024}\n",
      "Input: (1, 0, 0, 1, 0, 0). Result: {'100010': 1024}\n",
      "Input: (1, 0, 0, 1, 0, 1). Result: {'100011': 1024}\n",
      "Input: (1, 0, 0, 1, 1, 0). Result: {'100001': 1024}\n",
      "Input: (1, 0, 0, 1, 1, 1). Result: {'100000': 1024}\n",
      "Input: (1, 0, 1, 0, 0, 0). Result: {'101101': 1024}\n",
      "Input: (1, 0, 1, 0, 0, 1). Result: {'101100': 1024}\n",
      "Input: (1, 0, 1, 0, 1, 0). Result: {'101111': 1024}\n",
      "Input: (1, 0, 1, 0, 1, 1). Result: {'101110': 1024}\n",
      "Input: (1, 0, 1, 1, 0, 0). Result: {'101011': 1024}\n",
      "Input: (1, 0, 1, 1, 0, 1). Result: {'101010': 1024}\n",
      "Input: (1, 0, 1, 1, 1, 0). Result: {'101000': 1024}\n",
      "Input: (1, 0, 1, 1, 1, 1). Result: {'101001': 1024}\n",
      "Input: (1, 1, 0, 0, 0, 0). Result: {'110110': 1024}\n",
      "Input: (1, 1, 0, 0, 0, 1). Result: {'110111': 1024}\n",
      "Input: (1, 1, 0, 0, 1, 0). Result: {'110101': 1024}\n",
      "Input: (1, 1, 0, 0, 1, 1). Result: {'110100': 1024}\n",
      "Input: (1, 1, 0, 1, 0, 0). Result: {'110001': 1024}\n",
      "Input: (1, 1, 0, 1, 0, 1). Result: {'110000': 1024}\n",
      "Input: (1, 1, 0, 1, 1, 0). Result: {'110011': 1024}\n",
      "Input: (1, 1, 0, 1, 1, 1). Result: {'110010': 1024}\n",
      "Input: (1, 1, 1, 0, 0, 0). Result: {'111111': 1024}\n",
      "Input: (1, 1, 1, 0, 0, 1). Result: {'111110': 1024}\n",
      "Input: (1, 1, 1, 0, 1, 0). Result: {'111100': 1024}\n",
      "Input: (1, 1, 1, 0, 1, 1). Result: {'111101': 1024}\n",
      "Input: (1, 1, 1, 1, 0, 0). Result: {'111000': 1024}\n",
      "Input: (1, 1, 1, 1, 0, 1). Result: {'111001': 1024}\n",
      "Input: (1, 1, 1, 1, 1, 0). Result: {'111010': 1024}\n",
      "Input: (1, 1, 1, 1, 1, 1). Result: {'111011': 1024}\n"
     ]
    }
   ],
   "source": []
  }
 ],
 "metadata": {
  "kernelspec": {
   "display_name": "quantumc",
   "language": "python",
   "name": "python3"
  },
  "language_info": {
   "codemirror_mode": {
    "name": "ipython",
    "version": 3
   },
   "file_extension": ".py",
   "mimetype": "text/x-python",
   "name": "python",
   "nbconvert_exporter": "python",
   "pygments_lexer": "ipython3",
   "version": "3.13.3"
  }
 },
 "nbformat": 4,
 "nbformat_minor": 5
}
