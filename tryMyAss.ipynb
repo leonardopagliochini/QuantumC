{
 "cells": [
  {
   "cell_type": "markdown",
   "id": "bed6e177",
   "metadata": {},
   "source": [
    "# Fantastic Fake Risc-V Gen"
   ]
  },
  {
   "cell_type": "code",
   "execution_count": null,
   "id": "47a3df9f",
   "metadata": {},
   "outputs": [],
   "source": []
  },
  {
   "cell_type": "code",
   "execution_count": 1,
   "id": "b008d926",
   "metadata": {},
   "outputs": [
    {
     "name": "stdout",
     "output_type": "stream",
     "text": [
      "JSON output saved to: /home/franco/Dropbox/AA_Fra_Rosnati/B_Education/AA_University/AA_PoliMi/AA_Ing/01_Magistrale/HPC_engineering/4_sem_HPC/CTO_Agosta/COT_Project/QuantumC/json_out/try.json\n"
     ]
    }
   ],
   "source": [
    "from quantumC.pyast import astJsonGen\n",
    "astJsonGen(input_dir=\"c_code\")"
   ]
  },
  {
   "cell_type": "code",
   "execution_count": 2,
   "id": "0334ab0d",
   "metadata": {},
   "outputs": [
    {
     "name": "stdout",
     "output_type": "stream",
     "text": [
      "int main() {\n",
      "    // int base = (5 + 7);          // ADD\n",
      "    // int diff = (base - 3);        // SUB\n",
      "    // int prod = (diff * 4);        // MUL\n",
      "    // int quotient = (prod / 2);    // DIV\n",
      "    // int remainder = (quotient % 5); // REM\n",
      "    // int toggle = (remainder ^ 6);  // XOR (toggle some bits)\n",
      "    // int merged = (toggle | 1);    // OR (force last bit on)\n",
      "    // int masked = (merged & 7);    // AND (keep only 3 bits)\n",
      "    // int non_I = (diff - prod);\n",
      "    // int multip_op = (quotient + prod) * base;\n",
      "\n",
      "\n",
      "    int a = 1;\n",
      "    int b = 2 * (a + a);\n",
      "    int c = b * (a + a);\n",
      "\n",
      "    int genova = a * b * c;\n",
      "    \n",
      "    int d, e, f, g;\n",
      "\n",
      "    d = a + b;\n",
      "    e = a + 7;\n",
      "    f = c + a;\n",
      "    g = c + b;\n",
      "\n",
      "    int qst =  7 - f;\n",
      "\n",
      "    return 0;\n",
      "}\n",
      "\n"
     ]
    }
   ],
   "source": [
    "with open(\"c_code/try.c\", \"r\") as file:\n",
    "    print(file.read())"
   ]
  },
  {
   "cell_type": "code",
   "execution_count": 3,
   "id": "e73b6a67",
   "metadata": {},
   "outputs": [
    {
     "name": "stdout",
     "output_type": "stream",
     "text": [
      "LI qr1, 1\n",
      "ADDI qr0, qr1, 1\n",
      "LI qr3, 2\n",
      "MUL qr2, qr3, qr0\n",
      "LI qr5, 1\n",
      "ADDI qr4, qr5, 1\n",
      "MUL qr6, qr2, qr4\n",
      "LI qr8, 1\n",
      "MUL qr7, qr8, qr2\n",
      "MUL qr9, qr7, qr6\n",
      "LI qr11, 1\n",
      "ADD qr10, qr11, qr2\n",
      "LI qr13, 1\n",
      "ADDI qr12, qr13, 7\n",
      "ADDI qr14, qr6, 1\n",
      "ADD qr15, qr6, qr2\n",
      "LI qr17, 7\n",
      "SUB qr16, qr17, qr14\n"
     ]
    }
   ],
   "source": [
    "from quantumC.pyass import generate_riscv_commands\n",
    "generate_riscv_commands(\"./json_out/try.json\", out_folder=\"fake_v\")"
   ]
  },
  {
   "cell_type": "code",
   "execution_count": 4,
   "id": "dae41aa2",
   "metadata": {},
   "outputs": [
    {
     "name": "stdout",
     "output_type": "stream",
     "text": [
      "LI qr1, 1                                |  LI qr1, 1\n",
      "ADDI qr0, qr1, 1                         |  ADDI qr1, qr1, 1\n",
      "LI qr3, 2                                |  LI qr3, 2\n",
      "MUL qr2, qr3, qr0                        |  MOV qr18, qr0\n",
      "                                         |  MUL qr18, qr3, qr18\n",
      "LI qr5, 1                                |  LI qr5, 1\n",
      "ADDI qr4, qr5, 1                         |  ADDI qr5, qr5, 1\n",
      "MUL qr6, qr2, qr4                        |  MOV qr19, qr4\n",
      "                                         |  MUL qr19, qr2, qr19\n",
      "LI qr8, 1                                |  LI qr8, 1\n",
      "MUL qr7, qr8, qr2                        |  MOV qr20, qr2\n",
      "                                         |  MUL qr20, qr8, qr20\n",
      "MUL qr9, qr7, qr6                        |  MOV qr21, qr6\n",
      "                                         |  MUL qr21, qr7, qr21\n",
      "LI qr11, 1                               |  LI qr11, 1\n",
      "ADD qr10, qr11, qr2                      |  MOV qr22, qr2\n",
      "                                         |  ADD qr22, qr11, qr22\n",
      "LI qr13, 1                               |  LI qr13, 1\n",
      "ADDI qr12, qr13, 7                       |  ADDI qr13, qr13, 7\n",
      "ADDI qr14, qr6, 1                        |  ADDI qr6, qr6, 1\n",
      "ADD qr15, qr6, qr2                       |  MOV qr23, qr2\n",
      "                                         |  ADD qr23, qr6, qr23\n",
      "LI qr17, 7                               |  LI qr17, 7\n",
      "SUB qr16, qr17, qr14                     |  MOV qr24, qr14\n",
      "                                         |  SUB qr24, qr17, qr24\n",
      "\n",
      "✅ Total virtual registers used: 25\n"
     ]
    }
   ],
   "source": [
    "from quantumC.pyass import quantumize_irep\n",
    "quantumize_irep(\"try\", folder=\"fake_v\")"
   ]
  }
 ],
 "metadata": {
  "kernelspec": {
   "display_name": "cotenv",
   "language": "python",
   "name": "python3"
  },
  "language_info": {
   "codemirror_mode": {
    "name": "ipython",
    "version": 3
   },
   "file_extension": ".py",
   "mimetype": "text/x-python",
   "name": "python",
   "nbconvert_exporter": "python",
   "pygments_lexer": "ipython3",
   "version": "3.13.2"
  }
 },
 "nbformat": 4,
 "nbformat_minor": 5
}
