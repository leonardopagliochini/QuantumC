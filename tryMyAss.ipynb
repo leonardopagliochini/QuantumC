{
 "cells": [
  {
   "cell_type": "markdown",
   "id": "bed6e177",
   "metadata": {},
   "source": [
    "# Fantastic Fake Risc-V Gen"
   ]
  },
  {
   "cell_type": "code",
   "execution_count": null,
   "id": "47a3df9f",
   "metadata": {},
   "outputs": [],
   "source": []
  },
  {
   "cell_type": "code",
   "execution_count": 1,
   "id": "b008d926",
   "metadata": {},
   "outputs": [
    {
     "name": "stdout",
     "output_type": "stream",
     "text": [
      "JSON output saved to: /home/franco/Dropbox/AA_Fra_Rosnati/B_Education/AA_University/AA_PoliMi/AA_Ing/01_Magistrale/HPC_engineering/4_sem_HPC/CTO_Agosta/COT_Project/QuantumC/json_out/try.json\n"
     ]
    }
   ],
   "source": [
    "from quantumC.pyast import astJsonGen\n",
    "astJsonGen(input_dir=\"c_code\")"
   ]
  },
  {
   "cell_type": "code",
   "execution_count": 2,
   "id": "0334ab0d",
   "metadata": {},
   "outputs": [
    {
     "name": "stdout",
     "output_type": "stream",
     "text": [
      "int main() {\n",
      "    int base = (5 + 7);          // ADD\n",
      "    int diff = (base - 3);        // SUB\n",
      "    int prod = (diff * 4);        // MUL\n",
      "    int quotient = (prod / 2);    // DIV\n",
      "    int remainder = (quotient % 5); // REM\n",
      "    int toggle = (remainder ^ 6);  // XOR (toggle some bits)\n",
      "    int merged = (toggle | 1);    // OR (force last bit on)\n",
      "    int masked = (merged & 7);    // AND (keep only 3 bits)\n",
      "    int non_I = (diff - prod);\n",
      "    int multip_op = (quotient + prod) * base;\n",
      "\n",
      "    return 0;\n",
      "}\n",
      "\n"
     ]
    }
   ],
   "source": [
    "with open(\"c_code/try.c\", \"r\") as file:\n",
    "    print(file.read())"
   ]
  },
  {
   "cell_type": "code",
   "execution_count": 3,
   "id": "e73b6a67",
   "metadata": {},
   "outputs": [
    {
     "name": "stdout",
     "output_type": "stream",
     "text": [
      "LI qr1, 5\n",
      "ADDI qr0, qr1, 7\n",
      "SUBI qr2, qr0, 3\n",
      "MULI qr3, qr2, 4\n",
      "DIVI qr4, qr3, 2\n",
      "REMI qr5, qr4, 5\n",
      "XORI qr6, qr5, 6\n",
      "ORI qr7, qr6, 1\n",
      "ANDI qr8, qr7, 7\n",
      "SUB qr9, qr2, qr3\n",
      "ADD qr10, qr4, qr3\n",
      "MUL qr11, qr10, qr0\n"
     ]
    }
   ],
   "source": [
    "from quantumC.pyass import generate_riscv_commands\n",
    "generate_riscv_commands(\"./json_out/try.json\")"
   ]
  },
  {
   "cell_type": "code",
   "execution_count": null,
   "id": "dae41aa2",
   "metadata": {},
   "outputs": [],
   "source": []
  }
 ],
 "metadata": {
  "kernelspec": {
   "display_name": "cotenv",
   "language": "python",
   "name": "python3"
  },
  "language_info": {
   "codemirror_mode": {
    "name": "ipython",
    "version": 3
   },
   "file_extension": ".py",
   "mimetype": "text/x-python",
   "name": "python",
   "nbconvert_exporter": "python",
   "pygments_lexer": "ipython3",
   "version": "3.13.2"
  }
 },
 "nbformat": 4,
 "nbformat_minor": 5
}
