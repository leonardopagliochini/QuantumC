{
 "cells": [
  {
   "cell_type": "markdown",
   "id": "bed6e177",
   "metadata": {},
   "source": [
    "# Fantastic Fake Risc-V Gen"
   ]
  },
  {
   "cell_type": "code",
   "execution_count": null,
   "id": "47a3df9f",
   "metadata": {},
   "outputs": [],
   "source": []
  },
  {
   "cell_type": "code",
   "execution_count": 1,
   "id": "b008d926",
   "metadata": {},
   "outputs": [
    {
     "name": "stdout",
     "output_type": "stream",
     "text": [
      "JSON output saved to: /home/franco/Dropbox/AA_Fra_Rosnati/B_Education/AA_University/AA_PoliMi/AA_Ing/01_Magistrale/HPC_engineering/4_sem_HPC/CTO_Agosta/COT_Project/QuantumC/json_out/try.json\n"
     ]
    }
   ],
   "source": [
    "from quantumC.pyast import astJsonGen\n",
    "astJsonGen(input_dir=\"c_code\")"
   ]
  },
  {
   "cell_type": "code",
   "execution_count": 2,
   "id": "e73b6a67",
   "metadata": {},
   "outputs": [
    {
     "name": "stdout",
     "output_type": "stream",
     "text": [
      "ADD a, 5, 7\n",
      "SUB b, a, 3\n",
      "MUL c, b, 4\n",
      "DIV d, c, 2\n",
      "REM e, d, 5\n",
      "XOR f, e, 6\n",
      "OR g, f, 1\n",
      "AND h, g, 7\n"
     ]
    }
   ],
   "source": [
    "from quantumC.pyast import generate_riscv_commands\n",
    "generate_riscv_commands(\"./json_out/try.json\")"
   ]
  }
 ],
 "metadata": {
  "kernelspec": {
   "display_name": "cotenv",
   "language": "python",
   "name": "python3"
  },
  "language_info": {
   "codemirror_mode": {
    "name": "ipython",
    "version": 3
   },
   "file_extension": ".py",
   "mimetype": "text/x-python",
   "name": "python",
   "nbconvert_exporter": "python",
   "pygments_lexer": "ipython3",
   "version": "3.13.2"
  }
 },
 "nbformat": 4,
 "nbformat_minor": 5
}
