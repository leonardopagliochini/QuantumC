{
 "cells": [
  {
   "cell_type": "code",
   "execution_count": 41,
   "id": "13267ec1",
   "metadata": {},
   "outputs": [],
   "source": [
    "from qiskit import QuantumCircuit\n",
    "from qiskit.visualization import plot_circuit_layout, circuit_drawer\n",
    "import matplotlib.pyplot as plt\n"
   ]
  },
  {
   "cell_type": "code",
   "execution_count": 42,
   "id": "ecbb82cc",
   "metadata": {},
   "outputs": [
    {
     "name": "stdout",
     "output_type": "stream",
     "text": [
      "Circuito caricato correttamente:\n"
     ]
    }
   ],
   "source": [
    "# Inserisci il path corretto al tuo file QASM\n",
    "qasm_path = \"output/out.qasm\"\n",
    "\n",
    "# Carica il circuito\n",
    "qc = QuantumCircuit.from_qasm_file(qasm_path)\n",
    "print(\"Circuito caricato correttamente:\")\n"
   ]
  },
  {
   "cell_type": "code",
   "execution_count": 43,
   "id": "3f0d3944",
   "metadata": {},
   "outputs": [],
   "source": [
    "# Visualizza in formato disegno\n",
    "# circuit_drawer(qc, output=\"mpl\", scale=0.7)"
   ]
  },
  {
   "cell_type": "code",
   "execution_count": 44,
   "id": "16fcd022",
   "metadata": {},
   "outputs": [
    {
     "name": "stdout",
     "output_type": "stream",
     "text": [
      "Numero di qubit: 1037\n",
      "Numero di porte: 97317\n",
      "Profondità del circuito: 19604\n"
     ]
    }
   ],
   "source": [
    "print(f\"Numero di qubit: {qc.num_qubits}\")\n",
    "print(f\"Numero di porte: {qc.size()}\")\n",
    "print(f\"Profondità del circuito: {qc.depth()}\")"
   ]
  },
  {
   "cell_type": "code",
   "execution_count": 45,
   "id": "572c22f4",
   "metadata": {},
   "outputs": [
    {
     "name": "stdout",
     "output_type": "stream",
     "text": [
      "Measured bitstring: 00000000000000100000000000000100000000000000100000000000000100000000000000000000000000000000000000000000000000000000000000000000000000000000000000000000000000000000000000000000\n",
      "Register qr0_measure: binary = 0000000000000010, value (2's complement) = 2\n",
      "Register prod0_measure: binary = 0000000000000100, value (2's complement) = 4\n",
      "Register prod1_measure: binary = 0000000000001000, value (2's complement) = 8\n",
      "Register prod2_measure: binary = 0000000000010000, value (2's complement) = 16\n",
      "Register prod3_measure: binary = 0000000000000000, value (2's complement) = 0\n",
      "Register prod4_measure: binary = 0000000000000000, value (2's complement) = 0\n",
      "Register prod5_measure: binary = 0000000000000000, value (2's complement) = 0\n",
      "Register prod6_measure: binary = 0000000000000000, value (2's complement) = 0\n",
      "Register prod7_measure: binary = 0000000000000000, value (2's complement) = 0\n",
      "Register prod8_measure: binary = 0000000000000000, value (2's complement) = 0\n",
      "Register prod9_measure: binary = 0000000000000000, value (2's complement) = 0\n"
     ]
    },
    {
     "data": {
      "text/plain": [
       "0"
      ]
     },
     "execution_count": 45,
     "metadata": {},
     "output_type": "execute_result"
    }
   ],
   "source": [
    "from q_arithmetics import simulate\n",
    "\n",
    "simulate(qc)"
   ]
  }
 ],
 "metadata": {
  "kernelspec": {
   "display_name": "quantumc",
   "language": "python",
   "name": "python3"
  },
  "language_info": {
   "codemirror_mode": {
    "name": "ipython",
    "version": 3
   },
   "file_extension": ".py",
   "mimetype": "text/x-python",
   "name": "python",
   "nbconvert_exporter": "python",
   "pygments_lexer": "ipython3",
   "version": "3.13.3"
  }
 },
 "nbformat": 4,
 "nbformat_minor": 5
}
