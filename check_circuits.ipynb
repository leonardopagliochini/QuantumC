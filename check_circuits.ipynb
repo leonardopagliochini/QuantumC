{
 "cells": [
  {
   "cell_type": "code",
   "execution_count": 11,
   "id": "13267ec1",
   "metadata": {},
   "outputs": [],
   "source": [
    "from qiskit import QuantumCircuit\n",
    "from qiskit.visualization import plot_circuit_layout, circuit_drawer\n",
    "import matplotlib.pyplot as plt\n"
   ]
  },
  {
   "cell_type": "code",
   "execution_count": 12,
   "id": "ecbb82cc",
   "metadata": {},
   "outputs": [
    {
     "name": "stdout",
     "output_type": "stream",
     "text": [
      "Circuito caricato correttamente:\n"
     ]
    }
   ],
   "source": [
    "# Inserisci il path corretto al tuo file QASM\n",
    "qasm_path = \"output/out.qasm\"\n",
    "\n",
    "# Carica il circuito\n",
    "qc = QuantumCircuit.from_qasm_file(qasm_path)\n",
    "print(\"Circuito caricato correttamente:\")\n"
   ]
  },
  {
   "cell_type": "code",
   "execution_count": 13,
   "id": "3f0d3944",
   "metadata": {},
   "outputs": [],
   "source": [
    "# Visualizza in formato disegno\n",
    "# circuit_drawer(qc, output=\"mpl\", scale=0.7)"
   ]
  },
  {
   "cell_type": "code",
   "execution_count": 14,
   "id": "16fcd022",
   "metadata": {},
   "outputs": [
    {
     "name": "stdout",
     "output_type": "stream",
     "text": [
      "Numero di qubit: 54\n",
      "Numero di porte: 183\n",
      "Profondità del circuito: 78\n"
     ]
    }
   ],
   "source": [
    "print(f\"Numero di qubit: {qc.num_qubits}\")\n",
    "print(f\"Numero di porte: {qc.size()}\")\n",
    "print(f\"Profondità del circuito: {qc.depth()}\")"
   ]
  },
  {
   "cell_type": "code",
   "execution_count": 15,
   "id": "572c22f4",
   "metadata": {},
   "outputs": [
    {
     "name": "stdout",
     "output_type": "stream",
     "text": [
      "Measured bitstring: 000000000110\n",
      "Register qr3_measure: binary = 0000, value (2's complement) = 0\n",
      "Register sum1_measure: binary = 00000110, value (2's complement) = 6\n"
     ]
    },
    {
     "data": {
      "text/plain": [
       "6"
      ]
     },
     "execution_count": 15,
     "metadata": {},
     "output_type": "execute_result"
    }
   ],
   "source": [
    "from q_arithmetics import simulate\n",
    "\n",
    "simulate(qc)"
   ]
  }
 ],
 "metadata": {
  "kernelspec": {
   "display_name": "quantumc",
   "language": "python",
   "name": "python3"
  },
  "language_info": {
   "codemirror_mode": {
    "name": "ipython",
    "version": 3
   },
   "file_extension": ".py",
   "mimetype": "text/x-python",
   "name": "python",
   "nbconvert_exporter": "python",
   "pygments_lexer": "ipython3",
   "version": "3.13.3"
  }
 },
 "nbformat": 4,
 "nbformat_minor": 5
}
