{
 "cells": [
  {
   "cell_type": "markdown",
   "metadata": {},
   "source": [
    "# Abstract Syntax Three Generation"
   ]
  },
  {
   "cell_type": "markdown",
   "metadata": {},
   "source": [
    "## Imports"
   ]
  },
  {
   "cell_type": "code",
   "execution_count": 40,
   "metadata": {},
   "outputs": [],
   "source": [
    "# System Imports\n",
    "import os\n",
    "import subprocess\n",
    "import json"
   ]
  },
  {
   "cell_type": "markdown",
   "metadata": {},
   "source": [
    "## Process `.c` files"
   ]
  },
  {
   "cell_type": "markdown",
   "metadata": {},
   "source": [
    "Propose Files"
   ]
  },
  {
   "cell_type": "code",
   "execution_count": 41,
   "metadata": {},
   "outputs": [
    {
     "data": {
      "text/plain": [
       "['try.c']"
      ]
     },
     "execution_count": 41,
     "metadata": {},
     "output_type": "execute_result"
    }
   ],
   "source": [
    "# Save the current working directory (location of the notebook)\n",
    "current_dir = os.getcwd()\n",
    "\n",
    "# Define paths relative to the current directory\n",
    "victims_folder = os.path.join(current_dir, 'victims')\n",
    "ripped_hearts_folder = os.path.join(current_dir, 'ripped_hearts')\n",
    "ansi_folder = os.path.join(current_dir, 'ansi')\n",
    "\n",
    "# Check if the directories exist, if not, create them\n",
    "os.makedirs(ripped_hearts_folder, exist_ok=True)\n",
    "os.makedirs(ansi_folder, exist_ok=True)\n",
    "\n",
    "# List .c files in the 'victims' folder\n",
    "def list_files(directory):\n",
    "    return [f for f in os.listdir(directory) if f.endswith('.c')]\n",
    "\n",
    "# List files in the victims folder\n",
    "files_in_victims = list_files(victims_folder)\n",
    "\n",
    "# Display available files\n",
    "files_in_victims"
   ]
  },
  {
   "cell_type": "markdown",
   "metadata": {},
   "source": [
    "Choose Victim"
   ]
  },
  {
   "cell_type": "code",
   "execution_count": 42,
   "metadata": {},
   "outputs": [],
   "source": [
    "file = \"try.c\" "
   ]
  },
  {
   "cell_type": "markdown",
   "metadata": {},
   "source": [
    "Definition"
   ]
  },
  {
   "cell_type": "code",
   "execution_count": 43,
   "metadata": {},
   "outputs": [],
   "source": [
    "def process_file(c_file):\n",
    "    # Base name of the .c file (e.g., \"try.c\" becomes \"try\")\n",
    "    base_name = os.path.splitext(c_file)[0].split('/')[-1]  # Get base name from path without subdirectories\n",
    "    \n",
    "    # Output paths for JSON and ANSI files\n",
    "    json_output_path = os.path.join(ripped_hearts_folder, f'{base_name}_ast.json')  # Save directly in 'ripped_hearts'\n",
    "    ansi_output_path = os.path.join(ansi_folder, f'{base_name}_ast.ansi')  # Save directly in 'ansi'\n",
    "\n",
    "    # Run clang to generate AST in JSON format and save to the JSON file\n",
    "    clang_ast_cmd_json = f'clang -Xclang -ast-dump=json -fsyntax-only {c_file} > {json_output_path}'\n",
    "    subprocess.run(clang_ast_cmd_json, shell=True, check=True)\n",
    "\n",
    "    # Run clang to generate AST with ANSI coloring and save to the ANSI file\n",
    "    clang_ast_cmd_ansi = f'clang -Xclang -ast-dump -fsyntax-only {c_file} > {ansi_output_path}'\n",
    "    subprocess.run(clang_ast_cmd_ansi, shell=True, check=True)\n",
    "\n",
    "    return json_output_path, ansi_output_path\n"
   ]
  },
  {
   "cell_type": "markdown",
   "metadata": {},
   "source": [
    "Process"
   ]
  },
  {
   "cell_type": "code",
   "execution_count": 44,
   "metadata": {},
   "outputs": [
    {
     "data": {
      "text/plain": [
       "('/home/franco/Dropbox/AA_Fra_Rosnati/B_Education/AA_University/AA_PoliMi/AA_Ing/01_Magistrale/HPC_engineering/4_sem_HPC/CTO_Agosta/COT_Project/QuantumC/ripped_hearts/try_ast.json',\n",
       " '/home/franco/Dropbox/AA_Fra_Rosnati/B_Education/AA_University/AA_PoliMi/AA_Ing/01_Magistrale/HPC_engineering/4_sem_HPC/CTO_Agosta/COT_Project/QuantumC/ansi/try_ast.ansi')"
      ]
     },
     "execution_count": 44,
     "metadata": {},
     "output_type": "execute_result"
    }
   ],
   "source": [
    "# Process the chosen .c file and generate output\n",
    "json_output_path, ansi_output_path = process_file(os.path.join(victims_folder, file))\n",
    "\n",
    "# Display the paths of the generated files\n",
    "json_output_path, ansi_output_path"
   ]
  },
  {
   "cell_type": "markdown",
   "metadata": {},
   "source": [
    "Confirm"
   ]
  },
  {
   "cell_type": "code",
   "execution_count": 45,
   "metadata": {},
   "outputs": [
    {
     "name": "stdout",
     "output_type": "stream",
     "text": [
      "JSON output saved to: /home/franco/Dropbox/AA_Fra_Rosnati/B_Education/AA_University/AA_PoliMi/AA_Ing/01_Magistrale/HPC_engineering/4_sem_HPC/CTO_Agosta/COT_Project/QuantumC/ripped_hearts/try_ast.json\n",
      "ANSI output saved to: /home/franco/Dropbox/AA_Fra_Rosnati/B_Education/AA_University/AA_PoliMi/AA_Ing/01_Magistrale/HPC_engineering/4_sem_HPC/CTO_Agosta/COT_Project/QuantumC/ansi/try_ast.ansi\n"
     ]
    }
   ],
   "source": [
    "# Display the paths of the generated output files\n",
    "print(f\"JSON output saved to: {json_output_path}\")\n",
    "print(f\"ANSI output saved to: {ansi_output_path}\")"
   ]
  }
 ],
 "metadata": {
  "kernelspec": {
   "display_name": "cotenv",
   "language": "python",
   "name": "python3"
  },
  "language_info": {
   "codemirror_mode": {
    "name": "ipython",
    "version": 3
   },
   "file_extension": ".py",
   "mimetype": "text/x-python",
   "name": "python",
   "nbconvert_exporter": "python",
   "pygments_lexer": "ipython3",
   "version": "3.13.2"
  }
 },
 "nbformat": 4,
 "nbformat_minor": 2
}
