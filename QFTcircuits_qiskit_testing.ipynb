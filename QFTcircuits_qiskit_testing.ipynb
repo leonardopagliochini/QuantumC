{
 "cells": [
  {
   "cell_type": "code",
   "execution_count": 37,
   "id": "f07fd9e0",
   "metadata": {},
   "outputs": [],
   "source": [
    "import itertools\n",
    "from qiskit import QuantumCircuit, transpile\n",
    "from qiskit_aer import AerSimulator\n",
    "from qiskit.circuit.library import DraperQFTAdder"
   ]
  },
  {
   "cell_type": "code",
   "execution_count": 38,
   "id": "8d18c7ea",
   "metadata": {},
   "outputs": [],
   "source": [
    "a = 1\n",
    "b = 1\n"
   ]
  },
  {
   "cell_type": "code",
   "execution_count": null,
   "id": "fea1d9e7",
   "metadata": {},
   "outputs": [
    {
     "name": "stdout",
     "output_type": "stream",
     "text": [
      "Result: 2\n"
     ]
    }
   ],
   "source": [
    "NUMBITS = 3\n",
    "NUMQUBITS = NUMBITS * 2\n",
    "# write the bit representation of a in a_bit inversely\n",
    "a_bit = [int(i) for i in bin(a)[2:].zfill(NUMBITS)][::-1]\n",
    "b_bit = [int(i) for i in bin(b)[2:].zfill(NUMBITS)][::-1]\n",
    "\n",
    "backend = AerSimulator()\n",
    "adder = DraperQFTAdder(NUMBITS).decompose()\n",
    "\n",
    "qc = QuantumCircuit(NUMQUBITS)\n",
    "\n",
    "l = a_bit + b_bit\n",
    "\n",
    "for i, bit in enumerate(l):\n",
    "    if bit == 1: \n",
    "        qc.x(i)\n",
    "qc.append(adder, range(NUMBITS * 2))\n",
    "qc = qc.reverse_bits()\n",
    "qc.measure_all()\n",
    "job = backend.run(transpile(qc, backend), shots=1024)\n",
    "# print(f\"Input: {l}. Result: {job.result().get_counts()}\")\n",
    "result = job.result().get_counts()\n",
    "result = max(result, key=result.get)\n",
    "\n",
    "result = [int(i) for i in result]\n",
    "result = result[-NUMBITS:]\n",
    "# invert the bit order\n",
    "result = result[::-1]\n",
    "\n",
    "result = sum([bit * (2 ** i) for i, bit in enumerate(result[::-1])])\n",
    "print(f\"Result: {result}\")"
   ]
  },
  {
   "cell_type": "code",
   "execution_count": 40,
   "id": "434567ac",
   "metadata": {},
   "outputs": [
    {
     "data": {
      "text/html": [
       "<pre style=\"word-wrap: normal;white-space: pre;background: #fff0;line-height: 1.1;font-family: &quot;Courier New&quot;,Courier,monospace\">             ┌─────────────────┐ ░ ┌─┐               \n",
       "   q_0: ─────┤5                ├─░─┤M├───────────────\n",
       "             │                 │ ░ └╥┘┌─┐            \n",
       "   q_1: ─────┤4                ├─░──╫─┤M├────────────\n",
       "        ┌───┐│                 │ ░  ║ └╥┘┌─┐         \n",
       "   q_2: ┤ X ├┤3                ├─░──╫──╫─┤M├─────────\n",
       "        └───┘│  DraperQFTAdder │ ░  ║  ║ └╥┘┌─┐      \n",
       "   q_3: ─────┤2                ├─░──╫──╫──╫─┤M├──────\n",
       "             │                 │ ░  ║  ║  ║ └╥┘┌─┐   \n",
       "   q_4: ─────┤1                ├─░──╫──╫──╫──╫─┤M├───\n",
       "        ┌───┐│                 │ ░  ║  ║  ║  ║ └╥┘┌─┐\n",
       "   q_5: ┤ X ├┤0                ├─░──╫──╫──╫──╫──╫─┤M├\n",
       "        └───┘└─────────────────┘ ░  ║  ║  ║  ║  ║ └╥┘\n",
       "meas: 6/════════════════════════════╩══╩══╩══╩══╩══╩═\n",
       "                                    0  1  2  3  4  5 </pre>"
      ],
      "text/plain": [
       "             ┌─────────────────┐ ░ ┌─┐               \n",
       "   q_0: ─────┤5                ├─░─┤M├───────────────\n",
       "             │                 │ ░ └╥┘┌─┐            \n",
       "   q_1: ─────┤4                ├─░──╫─┤M├────────────\n",
       "        ┌───┐│                 │ ░  ║ └╥┘┌─┐         \n",
       "   q_2: ┤ X ├┤3                ├─░──╫──╫─┤M├─────────\n",
       "        └───┘│  DraperQFTAdder │ ░  ║  ║ └╥┘┌─┐      \n",
       "   q_3: ─────┤2                ├─░──╫──╫──╫─┤M├──────\n",
       "             │                 │ ░  ║  ║  ║ └╥┘┌─┐   \n",
       "   q_4: ─────┤1                ├─░──╫──╫──╫──╫─┤M├───\n",
       "        ┌───┐│                 │ ░  ║  ║  ║  ║ └╥┘┌─┐\n",
       "   q_5: ┤ X ├┤0                ├─░──╫──╫──╫──╫──╫─┤M├\n",
       "        └───┘└─────────────────┘ ░  ║  ║  ║  ║  ║ └╥┘\n",
       "meas: 6/════════════════════════════╩══╩══╩══╩══╩══╩═\n",
       "                                    0  1  2  3  4  5 "
      ]
     },
     "execution_count": 40,
     "metadata": {},
     "output_type": "execute_result"
    }
   ],
   "source": [
    "qc.draw()"
   ]
  }
 ],
 "metadata": {
  "kernelspec": {
   "display_name": "quantumc",
   "language": "python",
   "name": "python3"
  },
  "language_info": {
   "codemirror_mode": {
    "name": "ipython",
    "version": 3
   },
   "file_extension": ".py",
   "mimetype": "text/x-python",
   "name": "python",
   "nbconvert_exporter": "python",
   "pygments_lexer": "ipython3",
   "version": "3.13.3"
  }
 },
 "nbformat": 4,
 "nbformat_minor": 5
}
