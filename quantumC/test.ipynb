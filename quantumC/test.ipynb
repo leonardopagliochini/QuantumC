{
 "cells": [
  {
   "cell_type": "code",
   "execution_count": 1,
   "id": "48f0edb3",
   "metadata": {},
   "outputs": [],
   "source": [
    "from q_arithmetics import *\n",
    "NUMBER_OF_BITS = 3"
   ]
  },
  {
   "cell_type": "code",
   "execution_count": 2,
   "id": "cc544849",
   "metadata": {},
   "outputs": [],
   "source": [
    "qc = QuantumCircuit()\n",
    "a = initialize_variable(qc, 1, \"a\")\n",
    "b = initialize_variable(qc, 2, \"b\")"
   ]
  },
  {
   "cell_type": "code",
   "execution_count": 3,
   "id": "291db2c1",
   "metadata": {},
   "outputs": [
    {
     "data": {
      "text/html": [
       "<pre style=\"word-wrap: normal;white-space: pre;background: #fff0;line-height: 1.1;font-family: &quot;Courier New&quot;,Courier,monospace\">     ┌───┐\n",
       "a_0: ┤ X ├\n",
       "     └───┘\n",
       "a_1: ─────\n",
       "          \n",
       "a_2: ─────\n",
       "          \n",
       "b_0: ─────\n",
       "     ┌───┐\n",
       "b_1: ┤ X ├\n",
       "     └───┘\n",
       "b_2: ─────\n",
       "          </pre>"
      ],
      "text/plain": [
       "     ┌───┐\n",
       "a_0: ┤ X ├\n",
       "     └───┘\n",
       "a_1: ─────\n",
       "          \n",
       "a_2: ─────\n",
       "          \n",
       "b_0: ─────\n",
       "     ┌───┐\n",
       "b_1: ┤ X ├\n",
       "     └───┘\n",
       "b_2: ─────\n",
       "          "
      ]
     },
     "execution_count": 3,
     "metadata": {},
     "output_type": "execute_result"
    }
   ],
   "source": [
    "qc.draw()"
   ]
  },
  {
   "cell_type": "code",
   "execution_count": 4,
   "id": "de3ba782",
   "metadata": {},
   "outputs": [
    {
     "data": {
      "text/plain": [
       "QuantumRegister(3, 'a')"
      ]
     },
     "execution_count": 4,
     "metadata": {},
     "output_type": "execute_result"
    }
   ],
   "source": [
    "add(qc, a, b)"
   ]
  },
  {
   "cell_type": "code",
   "execution_count": 5,
   "id": "2f9464ca",
   "metadata": {},
   "outputs": [],
   "source": [
    "measure(qc, a)\n"
   ]
  },
  {
   "cell_type": "code",
   "execution_count": 6,
   "id": "86ab44e1",
   "metadata": {},
   "outputs": [
    {
     "name": "stdout",
     "output_type": "stream",
     "text": [
      "Measured bitstring: 011\n",
      "Register b: binary = 011, value (2's complement) = 3\n",
      "Register a: not fully measured or missing.\n"
     ]
    }
   ],
   "source": [
    "output = simulate(qc)"
   ]
  },
  {
   "cell_type": "code",
   "execution_count": null,
   "id": "24b50a94",
   "metadata": {},
   "outputs": [
    {
     "name": "stdout",
     "output_type": "stream",
     "text": [
      "Output: 3\n"
     ]
    }
   ],
   "source": []
  }
 ],
 "metadata": {
  "kernelspec": {
   "display_name": "quantumc",
   "language": "python",
   "name": "python3"
  },
  "language_info": {
   "codemirror_mode": {
    "name": "ipython",
    "version": 3
   },
   "file_extension": ".py",
   "mimetype": "text/x-python",
   "name": "python",
   "nbconvert_exporter": "python",
   "pygments_lexer": "ipython3",
   "version": "3.13.3"
  }
 },
 "nbformat": 4,
 "nbformat_minor": 5
}
