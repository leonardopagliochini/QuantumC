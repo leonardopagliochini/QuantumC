{
 "cells": [
  {
   "cell_type": "code",
   "execution_count": 3,
   "id": "48f0edb3",
   "metadata": {},
   "outputs": [],
   "source": [
    "from q_arithmetics import *\n",
    "NUMBER_OF_BITS = 5"
   ]
  },
  {
   "cell_type": "code",
   "execution_count": 48,
   "id": "cc544849",
   "metadata": {},
   "outputs": [],
   "source": [
    "set_number_of_bits(NUMBER_OF_BITS)\n",
    "qc = QuantumCircuit()\n",
    "a = initialize_variable(qc, 2, \"a\")\n",
    "b = initialize_variable(qc, 1, \"b\")"
   ]
  },
  {
   "cell_type": "code",
   "execution_count": 49,
   "id": "291db2c1",
   "metadata": {},
   "outputs": [
    {
     "data": {
      "text/html": [
       "<pre style=\"word-wrap: normal;white-space: pre;background: #fff0;line-height: 1.1;font-family: &quot;Courier New&quot;,Courier,monospace\">          \n",
       "a_0: ─────\n",
       "     ┌───┐\n",
       "a_1: ┤ X ├\n",
       "     └───┘\n",
       "a_2: ─────\n",
       "          \n",
       "a_3: ─────\n",
       "          \n",
       "a_4: ─────\n",
       "     ┌───┐\n",
       "b_0: ┤ X ├\n",
       "     └───┘\n",
       "b_1: ─────\n",
       "          \n",
       "b_2: ─────\n",
       "          \n",
       "b_3: ─────\n",
       "          \n",
       "b_4: ─────\n",
       "          </pre>"
      ],
      "text/plain": [
       "          \n",
       "a_0: ─────\n",
       "     ┌───┐\n",
       "a_1: ┤ X ├\n",
       "     └───┘\n",
       "a_2: ─────\n",
       "          \n",
       "a_3: ─────\n",
       "          \n",
       "a_4: ─────\n",
       "     ┌───┐\n",
       "b_0: ┤ X ├\n",
       "     └───┘\n",
       "b_1: ─────\n",
       "          \n",
       "b_2: ─────\n",
       "          \n",
       "b_3: ─────\n",
       "          \n",
       "b_4: ─────\n",
       "          "
      ]
     },
     "execution_count": 49,
     "metadata": {},
     "output_type": "execute_result"
    }
   ],
   "source": [
    "qc.draw()"
   ]
  },
  {
   "cell_type": "code",
   "execution_count": 50,
   "id": "de3ba782",
   "metadata": {},
   "outputs": [],
   "source": [
    "c = div(qc, a, b)"
   ]
  },
  {
   "cell_type": "code",
   "execution_count": 51,
   "id": "14317211",
   "metadata": {},
   "outputs": [],
   "source": [
    "measure(qc, c)"
   ]
  },
  {
   "cell_type": "code",
   "execution_count": 52,
   "id": "fbdaf1ad",
   "metadata": {},
   "outputs": [
    {
     "name": "stdout",
     "output_type": "stream",
     "text": [
      "Measured bitstring: 10101\n",
      "Register rem_copy4: binary = 10101, value (2's complement) = -11\n",
      "Register rem_copy3: not fully measured or missing.\n",
      "Register rem_copy2: not fully measured or missing.\n",
      "Register rem_copy1: not fully measured or missing.\n",
      "Register rem_copy0: not fully measured or missing.\n",
      "Register anc: not fully measured or missing.\n",
      "Register quot: not fully measured or missing.\n",
      "Register rem: not fully measured or missing.\n",
      "Register b: not fully measured or missing.\n",
      "Register a: not fully measured or missing.\n"
     ]
    },
    {
     "data": {
      "text/plain": [
       "-11"
      ]
     },
     "execution_count": 52,
     "metadata": {},
     "output_type": "execute_result"
    }
   ],
   "source": [
    "simulate(qc)"
   ]
  },
  {
   "cell_type": "code",
   "execution_count": 1,
   "id": "57c5a7ed",
   "metadata": {},
   "outputs": [],
   "source": [
    "# qc.draw('mpl')  # disegno del circuito"
   ]
  },
  {
   "cell_type": "code",
   "execution_count": 4,
   "id": "edf92a69",
   "metadata": {},
   "outputs": [
    {
     "name": "stdout",
     "output_type": "stream",
     "text": [
      "Measured bitstring: 01101100\n",
      "Register Q: binary = 0110, value (2's complement) = 6\n",
      "Register R: binary = 1100, value (2's complement) = -4\n"
     ]
    },
    {
     "data": {
      "text/plain": [
       "-4"
      ]
     },
     "execution_count": 4,
     "metadata": {},
     "output_type": "execute_result"
    }
   ],
   "source": [
    "set_number_of_bits(4)\n",
    "qc = QuantumCircuit()\n",
    "r = initialize_variable(qc, 6, \"R\")  # 0110\n",
    "q = initialize_variable(qc, 3, \"Q\")  # 0011\n",
    "\n",
    "shift_left_rq(qc, r, q)\n",
    "\n",
    "measure(qc, r)\n",
    "measure(qc, q)\n",
    "\n",
    "simulate(qc)"
   ]
  }
 ],
 "metadata": {
  "kernelspec": {
   "display_name": "quantumc",
   "language": "python",
   "name": "python3"
  },
  "language_info": {
   "codemirror_mode": {
    "name": "ipython",
    "version": 3
   },
   "file_extension": ".py",
   "mimetype": "text/x-python",
   "name": "python",
   "nbconvert_exporter": "python",
   "pygments_lexer": "ipython3",
   "version": "3.13.3"
  }
 },
 "nbformat": 4,
 "nbformat_minor": 5
}
